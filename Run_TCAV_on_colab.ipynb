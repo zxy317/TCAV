{
  "nbformat": 4,
  "nbformat_minor": 0,
  "metadata": {
    "kernelspec": {
      "display_name": "tcavenv",
      "language": "python",
      "name": "tcavenv"
    },
    "language_info": {
      "codemirror_mode": {
        "name": "ipython",
        "version": 3
      },
      "file_extension": ".py",
      "mimetype": "text/x-python",
      "name": "python",
      "nbconvert_exporter": "python",
      "pygments_lexer": "ipython3",
      "version": "3.7.6"
    },
    "colab": {
      "name": "Run TCAV on colab.ipynb",
      "provenance": [],
      "collapsed_sections": [],
      "include_colab_link": true
    }
  },
  "cells": [
    {
      "cell_type": "markdown",
      "metadata": {
        "id": "view-in-github",
        "colab_type": "text"
      },
      "source": [
        "<a href=\"https://colab.research.google.com/github/mugheesahmad/tcav/blob/master/Run_TCAV_on_colab.ipynb\" target=\"_parent\"><img src=\"https://colab.research.google.com/assets/colab-badge.svg\" alt=\"Open In Colab\"/></a>"
      ]
    },
    {
      "cell_type": "code",
      "metadata": {
        "id": "h3n6NUDcKWUC",
        "colab_type": "code",
        "outputId": "150c2af6-da07-4d81-b19c-866000606957",
        "colab": {
          "base_uri": "https://localhost:8080/",
          "height": 102
        }
      },
      "source": [
        "%tensorflow_version 1.x\n",
        "#The default TensorFlow version in Colab switched from 1.x to 2.x on the 27th of March, 2020."
      ],
      "execution_count": 1,
      "outputs": [
        {
          "output_type": "stream",
          "text": [
            "`%tensorflow_version` only switches the major version: 1.x or 2.x.\n",
            "You set: `1.x #https://colab.research.google.com/notebooks/tensorflow_version.ipynb`. This will be interpreted as: `1.x`.\n",
            "\n",
            "\n",
            "TensorFlow 1.x selected.\n"
          ],
          "name": "stdout"
        }
      ]
    },
    {
      "cell_type": "code",
      "metadata": {
        "id": "LR4MON61J8t5",
        "colab_type": "code",
        "outputId": "cf066415-5ca7-4951-fbe0-1ca749e63556",
        "colab": {
          "base_uri": "https://localhost:8080/",
          "height": 187
        }
      },
      "source": [
        "# Clone the entire repo.\n",
        "!git clone https://github.com/tensorflow/tcav.git tcav\n",
        "%cd tcav\n",
        "!ls"
      ],
      "execution_count": 2,
      "outputs": [
        {
          "output_type": "stream",
          "text": [
            "Cloning into 'tcav'...\n",
            "remote: Enumerating objects: 88, done.\u001b[K\n",
            "remote: Counting objects:   1% (1/88)\u001b[K\rremote: Counting objects:   2% (2/88)\u001b[K\rremote: Counting objects:   3% (3/88)\u001b[K\rremote: Counting objects:   4% (4/88)\u001b[K\rremote: Counting objects:   5% (5/88)\u001b[K\rremote: Counting objects:   6% (6/88)\u001b[K\rremote: Counting objects:   7% (7/88)\u001b[K\rremote: Counting objects:   9% (8/88)\u001b[K\rremote: Counting objects:  10% (9/88)\u001b[K\rremote: Counting objects:  11% (10/88)\u001b[K\rremote: Counting objects:  12% (11/88)\u001b[K\rremote: Counting objects:  13% (12/88)\u001b[K\rremote: Counting objects:  14% (13/88)\u001b[K\rremote: Counting objects:  15% (14/88)\u001b[K\rremote: Counting objects:  17% (15/88)\u001b[K\rremote: Counting objects:  18% (16/88)\u001b[K\rremote: Counting objects:  19% (17/88)\u001b[K\rremote: Counting objects:  20% (18/88)\u001b[K\rremote: Counting objects:  21% (19/88)\u001b[K\rremote: Counting objects:  22% (20/88)\u001b[K\rremote: Counting objects:  23% (21/88)\u001b[K\rremote: Counting objects:  25% (22/88)\u001b[K\rremote: Counting objects:  26% (23/88)\u001b[K\rremote: Counting objects:  27% (24/88)\u001b[K\rremote: Counting objects:  28% (25/88)\u001b[K\rremote: Counting objects:  29% (26/88)\u001b[K\rremote: Counting objects:  30% (27/88)\u001b[K\rremote: Counting objects:  31% (28/88)\u001b[K\rremote: Counting objects:  32% (29/88)\u001b[K\rremote: Counting objects:  34% (30/88)\u001b[K\rremote: Counting objects:  35% (31/88)\u001b[K\rremote: Counting objects:  36% (32/88)\u001b[K\rremote: Counting objects:  37% (33/88)\u001b[K\rremote: Counting objects:  38% (34/88)\u001b[K\rremote: Counting objects:  39% (35/88)\u001b[K\rremote: Counting objects:  40% (36/88)\u001b[K\rremote: Counting objects:  42% (37/88)\u001b[K\rremote: Counting objects:  43% (38/88)\u001b[K\rremote: Counting objects:  44% (39/88)\u001b[K\rremote: Counting objects:  45% (40/88)\u001b[K\rremote: Counting objects:  46% (41/88)\u001b[K\rremote: Counting objects:  47% (42/88)\u001b[K\rremote: Counting objects:  48% (43/88)\u001b[K\rremote: Counting objects:  50% (44/88)\u001b[K\rremote: Counting objects:  51% (45/88)\u001b[K\rremote: Counting objects:  52% (46/88)\u001b[K\rremote: Counting objects:  53% (47/88)\u001b[K\rremote: Counting objects:  54% (48/88)\u001b[K\rremote: Counting objects:  55% (49/88)\u001b[K\rremote: Counting objects:  56% (50/88)\u001b[K\rremote: Counting objects:  57% (51/88)\u001b[K\rremote: Counting objects:  59% (52/88)\u001b[K\rremote: Counting objects:  60% (53/88)\u001b[K\rremote: Counting objects:  61% (54/88)\u001b[K\rremote: Counting objects:  62% (55/88)\u001b[K\rremote: Counting objects:  63% (56/88)\u001b[K\rremote: Counting objects:  64% (57/88)\u001b[K\rremote: Counting objects:  65% (58/88)\u001b[K\rremote: Counting objects:  67% (59/88)\u001b[K\rremote: Counting objects:  68% (60/88)\u001b[K\rremote: Counting objects:  69% (61/88)\u001b[K\rremote: Counting objects:  70% (62/88)\u001b[K\rremote: Counting objects:  71% (63/88)\u001b[K\rremote: Counting objects:  72% (64/88)\u001b[K\rremote: Counting objects:  73% (65/88)\u001b[K\rremote: Counting objects:  75% (66/88)\u001b[K\rremote: Counting objects:  76% (67/88)\u001b[K\rremote: Counting objects:  77% (68/88)\u001b[K\rremote: Counting objects:  78% (69/88)\u001b[K\rremote: Counting objects:  79% (70/88)\u001b[K\rremote: Counting objects:  80% (71/88)\u001b[K\rremote: Counting objects:  81% (72/88)\u001b[K\rremote: Counting objects:  82% (73/88)\u001b[K\rremote: Counting objects:  84% (74/88)\u001b[K\rremote: Counting objects:  85% (75/88)\u001b[K\rremote: Counting objects:  86% (76/88)\u001b[K\rremote: Counting objects:  87% (77/88)\u001b[K\rremote: Counting objects:  88% (78/88)\u001b[K\rremote: Counting objects:  89% (79/88)\u001b[K\rremote: Counting objects:  90% (80/88)\u001b[K\rremote: Counting objects:  92% (81/88)\u001b[K\rremote: Counting objects:  93% (82/88)\u001b[K\rremote: Counting objects:  94% (83/88)\u001b[K\rremote: Counting objects:  95% (84/88)\u001b[K\rremote: Counting objects:  96% (85/88)\u001b[K\rremote: Counting objects:  97% (86/88)\u001b[K\rremote: Counting objects:  98% (87/88)\u001b[K\rremote: Counting objects: 100% (88/88)\u001b[K\rremote: Counting objects: 100% (88/88), done.\u001b[K\n",
            "remote: Compressing objects:   1% (1/64)\u001b[K\rremote: Compressing objects:   3% (2/64)\u001b[K\rremote: Compressing objects:   4% (3/64)\u001b[K\rremote: Compressing objects:   6% (4/64)\u001b[K\rremote: Compressing objects:   7% (5/64)\u001b[K\rremote: Compressing objects:   9% (6/64)\u001b[K\rremote: Compressing objects:  10% (7/64)\u001b[K\rremote: Compressing objects:  12% (8/64)\u001b[K\rremote: Compressing objects:  14% (9/64)\u001b[K\rremote: Compressing objects:  15% (10/64)\u001b[K\rremote: Compressing objects:  17% (11/64)\u001b[K\rremote: Compressing objects:  18% (12/64)\u001b[K\rremote: Compressing objects:  20% (13/64)\u001b[K\rremote: Compressing objects:  21% (14/64)\u001b[K\rremote: Compressing objects:  23% (15/64)\u001b[K\rremote: Compressing objects:  25% (16/64)\u001b[K\rremote: Compressing objects:  26% (17/64)\u001b[K\rremote: Compressing objects:  28% (18/64)\u001b[K\rremote: Compressing objects:  29% (19/64)\u001b[K\rremote: Compressing objects:  31% (20/64)\u001b[K\rremote: Compressing objects:  32% (21/64)\u001b[K\rremote: Compressing objects:  34% (22/64)\u001b[K\rremote: Compressing objects:  35% (23/64)\u001b[K\rremote: Compressing objects:  37% (24/64)\u001b[K\rremote: Compressing objects:  39% (25/64)\u001b[K\rremote: Compressing objects:  40% (26/64)\u001b[K\rremote: Compressing objects:  42% (27/64)\u001b[K\rremote: Compressing objects:  43% (28/64)\u001b[K\rremote: Compressing objects:  45% (29/64)\u001b[K\rremote: Compressing objects:  46% (30/64)\u001b[K\rremote: Compressing objects:  48% (31/64)\u001b[K\rremote: Compressing objects:  50% (32/64)\u001b[K\rremote: Compressing objects:  51% (33/64)\u001b[K\rremote: Compressing objects:  53% (34/64)\u001b[K\rremote: Compressing objects:  54% (35/64)\u001b[K\rremote: Compressing objects:  56% (36/64)\u001b[K\rremote: Compressing objects:  57% (37/64)\u001b[K\rremote: Compressing objects:  59% (38/64)\u001b[K\rremote: Compressing objects:  60% (39/64)\u001b[K\rremote: Compressing objects:  62% (40/64)\u001b[K\rremote: Compressing objects:  64% (41/64)\u001b[K\rremote: Compressing objects:  65% (42/64)\u001b[K\rremote: Compressing objects:  67% (43/64)\u001b[K\rremote: Compressing objects:  68% (44/64)\u001b[K\rremote: Compressing objects:  70% (45/64)\u001b[K\rremote: Compressing objects:  71% (46/64)\u001b[K\rremote: Compressing objects:  73% (47/64)\u001b[K\rremote: Compressing objects:  75% (48/64)\u001b[K\rremote: Compressing objects:  76% (49/64)\u001b[K\rremote: Compressing objects:  78% (50/64)\u001b[K\rremote: Compressing objects:  79% (51/64)\u001b[K\rremote: Compressing objects:  81% (52/64)\u001b[K\rremote: Compressing objects:  82% (53/64)\u001b[K\rremote: Compressing objects:  84% (54/64)\u001b[K\rremote: Compressing objects:  85% (55/64)\u001b[K\rremote: Compressing objects:  87% (56/64)\u001b[K\rremote: Compressing objects:  89% (57/64)\u001b[K\rremote: Compressing objects:  90% (58/64)\u001b[K\rremote: Compressing objects:  92% (59/64)\u001b[K\rremote: Compressing objects:  93% (60/64)\u001b[K\rremote: Compressing objects:  95% (61/64)\u001b[K\rremote: Compressing objects:  96% (62/64)\u001b[K\rremote: Compressing objects:  98% (63/64)\u001b[K\rremote: Compressing objects: 100% (64/64)\u001b[K\rremote: Compressing objects: 100% (64/64), done.\u001b[K\n",
            "Receiving objects:   0% (1/588)   \rReceiving objects:   1% (6/588)   \rReceiving objects:   2% (12/588)   \rReceiving objects:   3% (18/588)   \rReceiving objects:   4% (24/588)   \rReceiving objects:   5% (30/588)   \rReceiving objects:   6% (36/588)   \rReceiving objects:   7% (42/588)   \rReceiving objects:   8% (48/588)   \rReceiving objects:   9% (53/588)   \rReceiving objects:  10% (59/588)   \rReceiving objects:  11% (65/588)   \rReceiving objects:  12% (71/588)   \rReceiving objects:  13% (77/588)   \rReceiving objects:  14% (83/588)   \rReceiving objects:  15% (89/588)   \rReceiving objects:  16% (95/588)   \rReceiving objects:  17% (100/588)   \rReceiving objects:  18% (106/588)   \rReceiving objects:  19% (112/588)   \rReceiving objects:  20% (118/588)   \rReceiving objects:  21% (124/588)   \rReceiving objects:  22% (130/588)   \rReceiving objects:  23% (136/588)   \rReceiving objects:  24% (142/588)   \rReceiving objects:  25% (147/588)   \rReceiving objects:  26% (153/588)   \rReceiving objects:  27% (159/588)   \rReceiving objects:  28% (165/588)   \rReceiving objects:  29% (171/588)   \rReceiving objects:  30% (177/588)   \rReceiving objects:  31% (183/588)   \rReceiving objects:  32% (189/588)   \rReceiving objects:  33% (195/588)   \rReceiving objects:  34% (200/588)   \rReceiving objects:  35% (206/588)   \rReceiving objects:  36% (212/588)   \rReceiving objects:  37% (218/588)   \rReceiving objects:  38% (224/588)   \rReceiving objects:  39% (230/588)   \rReceiving objects:  40% (236/588)   \rReceiving objects:  41% (242/588)   \rReceiving objects:  42% (247/588)   \rReceiving objects:  43% (253/588)   \rReceiving objects:  44% (259/588)   \rReceiving objects:  45% (265/588)   \rReceiving objects:  46% (271/588)   \rReceiving objects:  47% (277/588)   \rReceiving objects:  48% (283/588)   \rReceiving objects:  49% (289/588)   \rReceiving objects:  50% (294/588)   \rReceiving objects:  51% (300/588)   \rReceiving objects:  52% (306/588)   \rReceiving objects:  53% (312/588)   \rReceiving objects:  54% (318/588)   \rReceiving objects:  55% (324/588)   \rReceiving objects:  56% (330/588)   \rReceiving objects:  57% (336/588)   \rReceiving objects:  58% (342/588)   \rReceiving objects:  59% (347/588)   \rReceiving objects:  60% (353/588)   \rReceiving objects:  61% (359/588)   \rReceiving objects:  62% (365/588)   \rReceiving objects:  63% (371/588)   \rReceiving objects:  64% (377/588)   \rReceiving objects:  65% (383/588)   \rReceiving objects:  66% (389/588)   \rReceiving objects:  67% (394/588)   \rReceiving objects:  68% (400/588)   \rReceiving objects:  69% (406/588)   \rReceiving objects:  70% (412/588)   \rReceiving objects:  71% (418/588)   \rReceiving objects:  72% (424/588)   \rReceiving objects:  73% (430/588)   \rReceiving objects:  74% (436/588)   \rReceiving objects:  75% (441/588)   \rReceiving objects:  76% (447/588)   \rReceiving objects:  77% (453/588)   \rReceiving objects:  78% (459/588)   \rReceiving objects:  79% (465/588)   \rremote: Total 588 (delta 44), reused 54 (delta 20), pack-reused 500\u001b[K\n",
            "Receiving objects:  80% (471/588)   \rReceiving objects:  81% (477/588)   \rReceiving objects:  82% (483/588)   \rReceiving objects:  83% (489/588)   \rReceiving objects:  84% (494/588)   \rReceiving objects:  85% (500/588)   \rReceiving objects:  86% (506/588)   \rReceiving objects:  87% (512/588)   \rReceiving objects:  88% (518/588)   \rReceiving objects:  89% (524/588)   \rReceiving objects:  90% (530/588)   \rReceiving objects:  91% (536/588)   \rReceiving objects:  92% (541/588)   \rReceiving objects:  93% (547/588)   \rReceiving objects:  94% (553/588)   \rReceiving objects:  95% (559/588)   \rReceiving objects:  96% (565/588)   \rReceiving objects:  97% (571/588)   \rReceiving objects:  98% (577/588)   \rReceiving objects:  99% (583/588)   \rReceiving objects: 100% (588/588)   \rReceiving objects: 100% (588/588), 493.45 KiB | 2.48 MiB/s, done.\n",
            "Resolving deltas:   0% (0/356)   \rResolving deltas:   1% (4/356)   \rResolving deltas:   4% (17/356)   \rResolving deltas:   5% (20/356)   \rResolving deltas:   6% (22/356)   \rResolving deltas:   7% (25/356)   \rResolving deltas:   8% (30/356)   \rResolving deltas:   9% (34/356)   \rResolving deltas:  10% (37/356)   \rResolving deltas:  11% (40/356)   \rResolving deltas:  12% (45/356)   \rResolving deltas:  13% (49/356)   \rResolving deltas:  17% (62/356)   \rResolving deltas:  19% (68/356)   \rResolving deltas:  20% (72/356)   \rResolving deltas:  21% (77/356)   \rResolving deltas:  25% (89/356)   \rResolving deltas:  28% (101/356)   \rResolving deltas:  29% (105/356)   \rResolving deltas:  44% (160/356)   \rResolving deltas:  49% (177/356)   \rResolving deltas:  50% (178/356)   \rResolving deltas:  55% (199/356)   \rResolving deltas:  57% (204/356)   \rResolving deltas:  59% (212/356)   \rResolving deltas:  62% (222/356)   \rResolving deltas:  68% (243/356)   \rResolving deltas:  70% (250/356)   \rResolving deltas:  71% (256/356)   \rResolving deltas:  72% (257/356)   \rResolving deltas:  75% (267/356)   \rResolving deltas:  76% (272/356)   \rResolving deltas:  79% (282/356)   \rResolving deltas:  80% (286/356)   \rResolving deltas:  82% (292/356)   \rResolving deltas:  83% (297/356)   \rResolving deltas:  85% (303/356)   \rResolving deltas:  87% (310/356)   \rResolving deltas:  91% (324/356)   \rResolving deltas:  92% (328/356)   \rResolving deltas:  95% (339/356)   \rResolving deltas:  96% (343/356)   \rResolving deltas:  97% (347/356)   \rResolving deltas:  98% (349/356)   \rResolving deltas:  99% (353/356)   \rResolving deltas: 100% (356/356)   \rResolving deltas: 100% (356/356), done.\n",
            "/content/tcav\n",
            " CONTRIBUTING.md\t LICENSE     requirements.txt   setup.py\n",
            " FetchDataAndModels.sh\t README.md  'Run TCAV.ipynb'    tcav\n"
          ],
          "name": "stdout"
        }
      ]
    },
    {
      "cell_type": "code",
      "metadata": {
        "id": "xHiswgX0vy9Z",
        "colab_type": "code",
        "outputId": "9a998fe9-17ff-42c2-d937-861dce1109bf",
        "colab": {
          "base_uri": "https://localhost:8080/",
          "height": 952
        }
      },
      "source": [
        "%cd /content/tcav/tcav/tcav_examples/image_models/imagenet\n",
        "%run download_and_make_datasets.py --source_dir=YOUR_FOLDER --number_of_images_per_folder=10 --number_of_random_folders=10"
      ],
      "execution_count": 3,
      "outputs": [
        {
          "output_type": "stream",
          "text": [
            "/content/tcav/tcav/tcav_examples/image_models/imagenet\n",
            "Created source directory at YOUR_FOLDER\n",
            "WARNING:tensorflow:From /content/tcav/tcav/tcav_examples/image_models/imagenet/imagenet_and_broden_fetcher.py:163: The name tf.logging.info is deprecated. Please use tf.compat.v1.logging.info instead.\n",
            "\n",
            "INFO:tensorflow:Fetching imagenet data for zebra\n",
            "INFO:tensorflow:Saving images at YOUR_FOLDER/zebra\n",
            "INFO:tensorflow:Problem downloading imagenet image. Exception was HTTP Error 404: Not Found for URL http://www.featurepics.com/FI/Marked/20060909/Zebra84929.jpg\n",
            "\n",
            "INFO:tensorflow:Problem downloading imagenet image. Exception was <urlopen error [Errno -2] Name or service not known> for URL http://bonfire.learnnc.org/zoo/week02/photos/mccrary_zootales/images/zebra.jpg\n",
            "\n",
            "INFO:tensorflow:Problem downloading imagenet image. Exception was HTTP Error 404: Not Found for URL http://www.istockphoto.com/file_thumbview_approve/269671/2/istockphoto_269671_zebra.jpg\n",
            "\n",
            "INFO:tensorflow:Problem downloading imagenet image. Exception was HTTP Error 410: Gone for URL http://www.mediastorehouse.com/image/Grevys-Zebra_463879.jpg\n",
            "\n",
            "INFO:tensorflow:Problem downloading imagenet image. Exception was HTTP Error 404: Not Found for URL http://www.lorilamont.com/Zebra.jpg\n",
            "\n",
            "INFO:tensorflow:Problem downloading imagenet image. Exception was HTTP Error 404: Not Found for URL http://www.cathouse-fcc.org/gifs-jpegs/southafrica/zebra.jpg\n",
            "\n",
            "INFO:tensorflow:Problem downloading imagenet image. Exception was <urlopen error [Errno -3] Temporary failure in name resolution> for URL http://www.kilimanjaro.com/animals/zebra.jpg\n",
            "\n",
            "INFO:tensorflow:Problem downloading imagenet image. Exception was <urlopen error [Errno -2] Name or service not known> for URL http://www.conceptexpeditions.com/images/zebra.jpg\n",
            "\n",
            "INFO:tensorflow:Problem downloading imagenet image. Exception was HTTP Error 404: Not Found for URL http://alumnus.caltech.edu/~kantner/zebras/pictures/zebra.jpg\n",
            "\n",
            "INFO:tensorflow:Problem downloading imagenet image. Exception was HTTP Error 403: Forbidden for URL http://www.zslprints.com/image/Chapmans-Zebra_561562.jpg\n",
            "\n",
            "INFO:tensorflow:Problem downloading imagenet image. Exception was [Errno 104] Connection reset by peer for URL http://www.free-slideshow.com/stock-photos/lovely_animals/zebra.jpg\n",
            "\n",
            "INFO:tensorflow:Problem downloading imagenet image. Exception was <urlopen error [Errno -2] Name or service not known> for URL http://www.namibia-lov.com/lovnadivljac/zebra0001p4.jpg\n",
            "\n",
            "INFO:tensorflow:Problem downloading imagenet image. Exception was HTTP Error 404: Not Found for URL http://www.hoopoe.com/images/lioneatingzebra.jpg\n",
            "\n",
            "INFO:tensorflow:Problem downloading imagenet image. Exception was HTTP Error 404: Not found for URL http://www.northrup.org/Photos/zebra/low/baby-zebra-with-mother.jpg\n",
            "\n",
            "INFO:tensorflow:Problem downloading imagenet image. Exception was HTTP Error 404: Not Found for URL http://www.kotaku.com/assets/resources/2006/09/afrika_zebra_sm.jpg\n",
            "\n",
            "Downloaded 10 for zebra\n",
            "INFO:tensorflow:Using path YOUR_FOLDER/broden1_224/broden1_224/images/dtd/ for texture: striped\n",
            "INFO:tensorflow:We have 120 images for the concept striped\n",
            "INFO:tensorflow:Using path YOUR_FOLDER/broden1_224/broden1_224/images/dtd/ for texture: dotted\n",
            "INFO:tensorflow:We have 120 images for the concept dotted\n",
            "INFO:tensorflow:Using path YOUR_FOLDER/broden1_224/broden1_224/images/dtd/ for texture: zigzagged\n",
            "INFO:tensorflow:We have 120 images for the concept zigzagged\n",
            "INFO:tensorflow:Downloaded 10/10 for random500_0\n",
            "INFO:tensorflow:Downloaded 10/10 for random500_1\n",
            "INFO:tensorflow:Downloaded 10/10 for random500_2\n",
            "INFO:tensorflow:Downloaded 10/10 for random500_3\n",
            "INFO:tensorflow:Downloaded 10/10 for random500_4\n",
            "INFO:tensorflow:Downloaded 10/10 for random500_5\n",
            "INFO:tensorflow:Downloaded 10/10 for random500_6\n",
            "INFO:tensorflow:Downloaded 10/10 for random500_7\n",
            "INFO:tensorflow:Downloaded 10/10 for random500_8\n",
            "INFO:tensorflow:Downloaded 10/10 for random500_9\n",
            "INFO:tensorflow:Downloaded 10/10 for random500_10\n",
            "Successfully created data at YOUR_FOLDER\n"
          ],
          "name": "stdout"
        }
      ]
    },
    {
      "cell_type": "code",
      "metadata": {
        "id": "lhRgRiO_Zpu0",
        "colab_type": "code",
        "outputId": "dac68471-b71f-4263-f3ea-b00c1295a12b",
        "colab": {
          "base_uri": "https://localhost:8080/",
          "height": 34
        }
      },
      "source": [
        "%cd /content/tcav"
      ],
      "execution_count": 4,
      "outputs": [
        {
          "output_type": "stream",
          "text": [
            "/content/tcav\n"
          ],
          "name": "stdout"
        }
      ]
    },
    {
      "cell_type": "markdown",
      "metadata": {
        "id": "ij_QWVD5FzIk",
        "colab_type": "text"
      },
      "source": [
        "# Running TCAV\n",
        "\n",
        "\n",
        "This notebook walks you through things you need to run TCAV. \n",
        "\n",
        "Before running this notebook, run the following to download all the data.\n",
        "\n",
        "```\n",
        "cd tcav/tcav_examples/image_models/imagenet\n",
        "\n",
        "python download_and_make_datasets.py --source_dir=YOUR_PATH --number_of_images_per_folder=50 --number_of_random_folders=3\n",
        "```\n",
        "\n",
        "In high level, you need:\n",
        "\n",
        "1. **example images in each folder** (you have this if you ran the above)\n",
        " * images for each concept\n",
        " * images for the class/labels of interest\n",
        " * random images that will be negative examples when learning CAVs (images that probably don't belong to any concepts)\n",
        "2. **model wrapper** (below uses example from tcav/model.py)\n",
        " * an instance of  ModelWrapper abstract class (in model.py). This tells TCAV class (tcav.py) how to communicate with your model (e.g., getting internal tensors)\n",
        "3. **act_generator** (below uses example from tcav/activation_generator.py)\n",
        " * an instance of ActivationGeneratorInterface that tells TCAV class how to load example data and how to get activations from the model\n",
        "\n",
        "\n",
        "## Requirements\n",
        "\n",
        "    pip install the tcav and tensorflow packages (or tensorflow-gpu if using GPU)"
      ]
    },
    {
      "cell_type": "code",
      "metadata": {
        "id": "g8m6xBvYFzIm",
        "colab_type": "code",
        "colab": {}
      },
      "source": [
        "%load_ext autoreload\n",
        "%autoreload 2"
      ],
      "execution_count": 0,
      "outputs": []
    },
    {
      "cell_type": "code",
      "metadata": {
        "id": "RQ0iGRjNFzIt",
        "colab_type": "code",
        "colab": {}
      },
      "source": [
        "import tcav.activation_generator as act_gen\n",
        "import tcav.cav as cav\n",
        "import tcav.model  as model\n",
        "import tcav.tcav as tcav\n",
        "import tcav.utils as utils\n",
        "import tcav.utils_plot as utils_plot # utils_plot requires matplotlib\n",
        "import os \n",
        "import tensorflow as tf"
      ],
      "execution_count": 0,
      "outputs": []
    },
    {
      "cell_type": "markdown",
      "metadata": {
        "id": "VhThYR_EFzIx",
        "colab_type": "text"
      },
      "source": [
        "## Step 1. Store concept and target class images to local folders\n",
        "\n",
        "and tell TCAV where they are.\n",
        "\n",
        "**source_dir**: where images of concepts, target class and random images (negative samples when learning CAVs) live. Each should be a sub-folder within this directory.\n",
        "\n",
        "Note that random image directories can be in any name. In this example, we are using `random500_0`, `random500_1`,.. for an arbitrary reason. \n",
        "\n",
        "You need roughly 50-200 images per concept and target class (10-20 pictures also tend to work, but 200 is pretty safe).\n",
        "\n",
        "\n",
        "**cav_dir**: directory to store CAVs (`None` if you don't want to store)\n",
        "\n",
        "**target, concept**: names of the target class (that you want to investigate) and concepts (strings) - these are folder names in source_dir\n",
        "\n",
        "**bottlenecks**: list of bottleneck names (intermediate layers in your model) that you want to use for TCAV. These names are defined in the model wrapper below.\n",
        "\n"
      ]
    },
    {
      "cell_type": "code",
      "metadata": {
        "id": "lPX3LOiZFzIy",
        "colab_type": "code",
        "outputId": "b3fe647f-c595-4f7f-b9d9-fbf6496dfe18",
        "colab": {
          "base_uri": "https://localhost:8080/",
          "height": 34
        }
      },
      "source": [
        "# This is the name of your model wrapper (InceptionV3 and GoogleNet are provided in model.py)\n",
        "model_to_run = 'GoogleNet'\n",
        "# the name of the parent directory that results are stored (only if you want to cache)\n",
        "project_name = 'tcav_class_test'\n",
        "working_dir = '/content/tcav/tcav'\n",
        "# where activations are stored (only if your act_gen_wrapper does so)\n",
        "activation_dir =  working_dir+ '/activations/'\n",
        "# where CAVs are stored. \n",
        "# You can say None if you don't wish to store any.\n",
        "cav_dir = working_dir + '/cavs/'\n",
        "# where the images live. \n",
        "source_dir = '/content/tcav/tcav/tcav_examples/image_models/imagenet/YOUR_FOLDER'\n",
        "bottlenecks = [ 'mixed4c']  # @param \n",
        "      \n",
        "utils.make_dir_if_not_exists(activation_dir)\n",
        "utils.make_dir_if_not_exists(working_dir)\n",
        "utils.make_dir_if_not_exists(cav_dir)\n",
        "\n",
        "# this is a regularizer penalty parameter for linear classifier to get CAVs. \n",
        "alphas = [0.1]   \n",
        "\n",
        "target = 'zebra'  \n",
        "concepts = [\"dotted\",\"striped\",\"zigzagged\"]   \n"
      ],
      "execution_count": 8,
      "outputs": [
        {
          "output_type": "stream",
          "text": [
            "REMEMBER TO UPDATE YOUR_PATH (where images, models are)!\n"
          ],
          "name": "stdout"
        }
      ]
    },
    {
      "cell_type": "markdown",
      "metadata": {
        "id": "vmdo01TEFzI4",
        "colab_type": "text"
      },
      "source": [
        "## Step 2. Write your model wrapper\n",
        "\n",
        "Next step is to tell TCAV how to communicate with your model. See `model.GoogleNetWrapper_public ` for details.\n",
        "\n",
        "You can define a subclass of ModelWrapper abstract class to do this. Let me walk you thru what each function does (tho they are pretty self-explanatory).  This wrapper includes a lot of the functions that you already have, for example, `get_prediction`.\n",
        "\n",
        "### 1. Tensors from the graph: bottleneck tensors and ends\n",
        "First, store your bottleneck tensors in `self.bottlenecks_tensors` as a dictionary. You only need bottlenecks that you are interested in running TCAV with. Similarly, fill in `self.ends` dictionary with `input`, `logit` and `prediction` tensors.\n",
        "\n",
        "### 2. Define loss\n",
        "Get your loss tensor, and assigned it to `self.loss`. This is what TCAV uses to take directional derivatives. \n",
        "\n",
        "While doing so, you would also want to set \n",
        "```python\n",
        "self.y_input \n",
        "```\n",
        "this simply is a tensorflow place holder for the target index in the logit layer (e.g., 0 index for a dog, 1 for a cat).\n",
        "For multi-class classification, typically something like this works:\n",
        "\n",
        "```python\n",
        "self.y_input = tf.placeholder(tf.int64, shape=[None])\n",
        "```\n",
        "\n",
        "For example, for a multiclass classifier, something like below would work. \n",
        "\n",
        "```python\n",
        "    # Construct gradient ops.\n",
        "    with g.as_default():\n",
        "      self.y_input = tf.placeholder(tf.int64, shape=[None])\n",
        "\n",
        "      self.pred = tf.expand_dims(self.ends['prediction'][0], 0)\n",
        "\n",
        "      self.loss = tf.reduce_mean(\n",
        "          tf.nn.softmax_cross_entropy_with_logits(\n",
        "              labels=tf.one_hot(self.y_input, len(self.labels)),\n",
        "              logits=self.pred))\n",
        "    self._make_gradient_tensors()\n",
        "```\n",
        "\n",
        "### 3. Call _make_gradient_tensors in __init__() of your wrapper\n",
        "```python\n",
        "_make_gradient_tensors()  \n",
        "```\n",
        "does what you expect - given the loss and bottleneck tensors defined above, it adds gradient tensors.\n",
        "\n",
        "### 4. Fill in labels, image shapes and a model name.\n",
        "Get the mapping from labels (strings) to indice in the logit layer (int) in a dictionary format.\n",
        "\n",
        "```python\n",
        "def id_to_label(self, idx)\n",
        "def label_to_id(self, label)\n",
        "```\n",
        "\n",
        "Set your input image shape at  `self.image_shape`\n",
        "\n",
        "\n",
        "Set your model name to `self.model_name`\n",
        "\n",
        "You are done with writing the model wrapper! I wrote two model wrapers, InceptionV3 and Googlenet."
      ]
    },
    {
      "cell_type": "markdown",
      "metadata": {
        "id": "ZvEO4u1iFzI4",
        "colab_type": "text"
      },
      "source": [
        "\n",
        "**sess**: a tensorflow session."
      ]
    },
    {
      "cell_type": "code",
      "metadata": {
        "id": "KmV0F2bQdHpq",
        "colab_type": "code",
        "outputId": "812a6ad5-69be-4018-827f-eaf029f05924",
        "colab": {
          "base_uri": "https://localhost:8080/",
          "height": 170
        }
      },
      "source": [
        "%cp -av '/content/tcav/tcav/tcav_examples/image_models/imagenet/YOUR_FOLDER/mobilenet_v2_1.0_224' '/content/tcav/tcav/mobilenet_v2_1.0_224'\n",
        "%rm '/content/tcav/tcav/tcav_examples/image_models/imagenet/YOUR_FOLDER/mobilenet_v2_1.0_224'"
      ],
      "execution_count": 9,
      "outputs": [
        {
          "output_type": "stream",
          "text": [
            "'/content/tcav/tcav/tcav_examples/image_models/imagenet/YOUR_FOLDER/mobilenet_v2_1.0_224' -> '/content/tcav/tcav/mobilenet_v2_1.0_224'\n",
            "'/content/tcav/tcav/tcav_examples/image_models/imagenet/YOUR_FOLDER/mobilenet_v2_1.0_224/mobilenet_v2_1.0_224_eval.pbtxt' -> '/content/tcav/tcav/mobilenet_v2_1.0_224/mobilenet_v2_1.0_224_eval.pbtxt'\n",
            "'/content/tcav/tcav/tcav_examples/image_models/imagenet/YOUR_FOLDER/mobilenet_v2_1.0_224/mobilenet_v2_1.0_224.ckpt.data-00000-of-00001' -> '/content/tcav/tcav/mobilenet_v2_1.0_224/mobilenet_v2_1.0_224.ckpt.data-00000-of-00001'\n",
            "'/content/tcav/tcav/tcav_examples/image_models/imagenet/YOUR_FOLDER/mobilenet_v2_1.0_224/mobilenet_v2_1.0_224_frozen.pb' -> '/content/tcav/tcav/mobilenet_v2_1.0_224/mobilenet_v2_1.0_224_frozen.pb'\n",
            "'/content/tcav/tcav/tcav_examples/image_models/imagenet/YOUR_FOLDER/mobilenet_v2_1.0_224/mobilenet_v2_1.0_224.tflite' -> '/content/tcav/tcav/mobilenet_v2_1.0_224/mobilenet_v2_1.0_224.tflite'\n",
            "'/content/tcav/tcav/tcav_examples/image_models/imagenet/YOUR_FOLDER/mobilenet_v2_1.0_224/mobilenet_v2_1.0_224_info.txt' -> '/content/tcav/tcav/mobilenet_v2_1.0_224/mobilenet_v2_1.0_224_info.txt'\n",
            "'/content/tcav/tcav/tcav_examples/image_models/imagenet/YOUR_FOLDER/mobilenet_v2_1.0_224/mobilenet_v2_1.0_224.ckpt.meta' -> '/content/tcav/tcav/mobilenet_v2_1.0_224/mobilenet_v2_1.0_224.ckpt.meta'\n",
            "'/content/tcav/tcav/tcav_examples/image_models/imagenet/YOUR_FOLDER/mobilenet_v2_1.0_224/mobilenet_v2_1.0_224.ckpt.index' -> '/content/tcav/tcav/mobilenet_v2_1.0_224/mobilenet_v2_1.0_224.ckpt.index'\n",
            "rm: cannot remove '/content/tcav/tcav/tcav_examples/image_models/imagenet/YOUR_FOLDER/mobilenet_v2_1.0_224': Is a directory\n"
          ],
          "name": "stdout"
        }
      ]
    },
    {
      "cell_type": "code",
      "metadata": {
        "id": "C3Gf9yAag2JM",
        "colab_type": "code",
        "outputId": "742b37ff-fca6-4138-a306-24e0db1b26ff",
        "colab": {
          "base_uri": "https://localhost:8080/",
          "height": 102
        }
      },
      "source": [
        "%cp -av '/content/tcav/tcav/tcav_examples/image_models/imagenet/YOUR_FOLDER/inception5h' '/content/tcav/tcav/inception5h'\n",
        "%rm '/content/tcav/tcav/tcav_examples/image_models/imagenet/YOUR_FOLDER/inception5h'"
      ],
      "execution_count": 10,
      "outputs": [
        {
          "output_type": "stream",
          "text": [
            "'/content/tcav/tcav/tcav_examples/image_models/imagenet/YOUR_FOLDER/inception5h' -> '/content/tcav/tcav/inception5h'\n",
            "'/content/tcav/tcav/tcav_examples/image_models/imagenet/YOUR_FOLDER/inception5h/imagenet_comp_graph_label_strings.txt' -> '/content/tcav/tcav/inception5h/imagenet_comp_graph_label_strings.txt'\n",
            "'/content/tcav/tcav/tcav_examples/image_models/imagenet/YOUR_FOLDER/inception5h/tensorflow_inception_graph.pb' -> '/content/tcav/tcav/inception5h/tensorflow_inception_graph.pb'\n",
            "'/content/tcav/tcav/tcav_examples/image_models/imagenet/YOUR_FOLDER/inception5h/LICENSE' -> '/content/tcav/tcav/inception5h/LICENSE'\n",
            "rm: cannot remove '/content/tcav/tcav/tcav_examples/image_models/imagenet/YOUR_FOLDER/inception5h': Is a directory\n"
          ],
          "name": "stdout"
        }
      ]
    },
    {
      "cell_type": "code",
      "metadata": {
        "id": "AqLdl3GBFzI5",
        "colab_type": "code",
        "outputId": "7fd0e23d-3d6a-43cd-9dad-df1189554eb3",
        "colab": {
          "base_uri": "https://localhost:8080/",
          "height": 323
        }
      },
      "source": [
        "sess = utils.create_session()\n",
        "\n",
        "# GRAPH_PATH is where the trained model is stored.\n",
        "GRAPH_PATH = \"/content/tcav/tcav/inception5h/tensorflow_inception_graph.pb\"\n",
        "# LABEL_PATH is where the labels are stored. Each line contains one class, and they are ordered with respect to their index in \n",
        "# the logit layer. (yes, id_to_label function in the model wrapper reads from this file.)\n",
        "# For example, imagenet_comp_graph_label_strings.txt looks like:\n",
        "# dummy                                                                                      \n",
        "# kit fox\n",
        "# English setter\n",
        "# Siberian husky ...\n",
        "\n",
        "LABEL_PATH = \"/content/tcav/tcav/inception5h/imagenet_comp_graph_label_strings.txt\"\n",
        "\n",
        "mymodel = model.GoogleNetWrapper_public(sess,\n",
        "                                        GRAPH_PATH,\n",
        "                                        LABEL_PATH)"
      ],
      "execution_count": 11,
      "outputs": [
        {
          "output_type": "stream",
          "text": [
            "WARNING:tensorflow:From /content/tcav/tcav/utils.py:40: The name tf.ConfigProto is deprecated. Please use tf.compat.v1.ConfigProto instead.\n",
            "\n",
            "WARNING:tensorflow:From /content/tcav/tcav/utils.py:44: The name tf.InteractiveSession is deprecated. Please use tf.compat.v1.InteractiveSession instead.\n",
            "\n",
            "WARNING:tensorflow:From /content/tcav/tcav/model.py:304: The name tf.placeholder is deprecated. Please use tf.compat.v1.placeholder instead.\n",
            "\n",
            "WARNING:tensorflow:From /content/tcav/tcav/model.py:310: The name tf.GraphDef is deprecated. Please use tf.compat.v1.GraphDef instead.\n",
            "\n",
            "WARNING:tensorflow:From /content/tcav/tcav/model.py:293: The name tf.get_default_graph is deprecated. Please use tf.compat.v1.get_default_graph instead.\n",
            "\n",
            "WARNING:tensorflow:From /content/tcav/tcav/model.py:263: softmax_cross_entropy_with_logits (from tensorflow.python.ops.nn_ops) is deprecated and will be removed in a future version.\n",
            "Instructions for updating:\n",
            "\n",
            "Future major versions of TensorFlow will allow gradients to flow\n",
            "into the labels input on backprop by default.\n",
            "\n",
            "See `tf.nn.softmax_cross_entropy_with_logits_v2`.\n",
            "\n"
          ],
          "name": "stdout"
        }
      ]
    },
    {
      "cell_type": "markdown",
      "metadata": {
        "id": "WlGsrlh3FzI-",
        "colab_type": "text"
      },
      "source": [
        "## Step 3. Implement a class that returns activations (maybe with caching!)\n",
        "\n",
        "Lastly, you will implement a class of the ActivationGenerationInterface which TCAV uses to load example data for a given concept or target, call into your model wrapper and return activations. I pulled out this logic outside of mymodel because this step often takes the longest. By making it modular, you can cache your activations and/or parallelize your computations, as I have done in `ActivationGeneratorBase.process_and_load_activations` in `activation_generator.py`.\n",
        "\n",
        "\n",
        "The `process_and_load_activations` method of the activation generator must return a dictionary of activations that has concept or target name as  a first key, and the bottleneck name as a second key. So something like:\n",
        "\n",
        "```python\n",
        "{concept1: {bottleneck1: [[0.2, 0.1, ....]]},\n",
        "concept2: {bottleneck1: [[0.1, 0.02, ....]]},\n",
        "target1: {bottleneck1: [[0.02, 0.99, ....]]}\n",
        "```\n"
      ]
    },
    {
      "cell_type": "code",
      "metadata": {
        "id": "xIC73E-jFzI_",
        "colab_type": "code",
        "colab": {}
      },
      "source": [
        "act_generator = act_gen.ImageActivationGenerator(mymodel, source_dir, activation_dir, max_examples=100)"
      ],
      "execution_count": 0,
      "outputs": []
    },
    {
      "cell_type": "markdown",
      "metadata": {
        "id": "Oj-b7hEUFzJD",
        "colab_type": "text"
      },
      "source": [
        "## You are ready to run TCAV!\n",
        "\n",
        "Let's do it.\n",
        "\n",
        "**num_random_exp**: number of experiments to confirm meaningful concept direction. TCAV will search for this many folders named `random500_0`, `random500_1`, etc. You can alternatively set the `random_concepts` keyword to be a list of folders of random concepts. Run at least 10-20 for meaningful tests. \n",
        "\n",
        "**random_counterpart**: as well as the above, you can optionally supply a single folder with random images as the \"positive set\" for statistical testing. Reduces computation time at the cost of less reliable random TCAV scores. \n"
      ]
    },
    {
      "cell_type": "code",
      "metadata": {
        "scrolled": false,
        "id": "J4SQ49frFzJE",
        "colab_type": "code",
        "outputId": "3c1c21a8-615b-4a44-cb05-64782862a0fe",
        "colab": {
          "base_uri": "https://localhost:8080/",
          "height": 187
        }
      },
      "source": [
        "tf.logging.set_verbosity(0)\n",
        "num_random_exp=10\n",
        "## only running num_random_exp = 10 to save some time. The paper number are reported for 500 random runs. \n",
        "mytcav = tcav.TCAV(sess,\n",
        "                   target,\n",
        "                   concepts,\n",
        "                   bottlenecks,\n",
        "                   act_generator,\n",
        "                   alphas,\n",
        "                   cav_dir=cav_dir,\n",
        "                   num_random_exp=num_random_exp)#10)\n",
        "print ('This may take a while... Go get coffee!')\n",
        "results = mytcav.run(run_parallel=False)\n",
        "print ('done!')"
      ],
      "execution_count": 13,
      "outputs": [
        {
          "output_type": "stream",
          "text": [
            "This may take a while... Go get coffee!\n",
            "WARNING:tensorflow:\n",
            "The TensorFlow contrib module will not be included in TensorFlow 2.0.\n",
            "For more information, please see:\n",
            "  * https://github.com/tensorflow/community/blob/master/rfcs/20180907-contrib-sunset.md\n",
            "  * https://github.com/tensorflow/addons\n",
            "  * https://github.com/tensorflow/io (for I/O related ops)\n",
            "If you depend on functionality not listed there, please file an issue.\n",
            "\n",
            "done!\n"
          ],
          "name": "stdout"
        }
      ]
    },
    {
      "cell_type": "code",
      "metadata": {
        "scrolled": false,
        "id": "3fD-6zdqFzJN",
        "colab_type": "code",
        "outputId": "e2a2f93c-6b82-4112-f838-9745a127e627",
        "colab": {
          "base_uri": "https://localhost:8080/",
          "height": 433
        }
      },
      "source": [
        "utils_plot.plot_results(results, num_random_exp=num_random_exp)"
      ],
      "execution_count": 14,
      "outputs": [
        {
          "output_type": "stream",
          "text": [
            "Class = zebra\n",
            "  Concept = dotted\n",
            "    Bottleneck = mixed4c. TCAV Score = 0.49 (+- 0.21), random was 0.48 (+- 0.22). p-val = 0.903 (not significant)\n",
            "  Concept = striped\n",
            "    Bottleneck = mixed4c. TCAV Score = 0.86 (+- 0.10), random was 0.48 (+- 0.22). p-val = 0.000 (significant)\n",
            "  Concept = zigzagged\n",
            "    Bottleneck = mixed4c. TCAV Score = 0.88 (+- 0.15), random was 0.48 (+- 0.22). p-val = 0.000 (significant)\n",
            "{'mixed4c': {'bn_vals': [0.01, 0.8600000000000001, 0.8800000000000001], 'bn_stds': [0, 0.10198039027185571, 0.14696938456699069], 'significant': [False, True, True]}}\n"
          ],
          "name": "stdout"
        },
        {
          "output_type": "display_data",
          "data": {
            "image/png": "[encoded data removed]",
            "text/plain": [
              "<Figure size 432x288 with 1 Axes>"
            ]
          },
          "metadata": {
            "tags": [],
            "needs_background": "light"
          }
        }
      ]
    }
  ]
}